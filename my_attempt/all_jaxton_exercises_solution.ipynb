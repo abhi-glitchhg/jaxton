{
  "metadata": {
    "kernelspec": {
      "language": "python",
      "display_name": "Python 3",
      "name": "python3"
    },
    "language_info": {
      "pygments_lexer": "ipython3",
      "nbconvert_exporter": "python",
      "version": "3.6.4",
      "file_extension": ".py",
      "codemirror_mode": {
        "name": "ipython",
        "version": 3
      },
      "name": "python",
      "mimetype": "text/x-python"
    },
    "colab": {
      "name": "Copy of all_jaxton_exercises.ipynb",
      "provenance": [],
      "collapsed_sections": [],
      "include_colab_link": true
    }
  },
  "nbformat_minor": 0,
  "nbformat": 4,
  "cells": [
    {
      "cell_type": "markdown",
      "metadata": {
        "id": "view-in-github",
        "colab_type": "text"
      },
      "source": [
        "<a href=\"https://colab.research.google.com/github/abhi-glitchhg/jaxton/blob/main/my_attempt/all_jaxton_exercises_solution.ipynb\" target=\"_parent\"><img src=\"https://colab.research.google.com/assets/colab-badge.svg\" alt=\"Open In Colab\"/></a>"
      ]
    },
    {
      "cell_type": "markdown",
      "source": [
        "<center>\n",
        "    <h1>JaxTon</h1>\n",
        "    <i>💯 JAX exercises</i>\n",
        "    <br>\n",
        "    <br>\n",
        "    <a href='https://github.com/vopani/jaxton/blob/master/LICENSE'>\n",
        "        <img src='https://img.shields.io/badge/license-Apache%202.0-blue.svg?logo=apache'>\n",
        "    </a>\n",
        "    <a href='https://github.com/vopani/jaxton'>\n",
        "        <img src='https://img.shields.io/github/stars/vopani/jaxton?color=yellowgreen&logo=github'>\n",
        "    </a>\n",
        "    <a href='https://twitter.com/vopani'>\n",
        "        <img src='https://img.shields.io/twitter/follow/vopani'>\n",
        "    </a>\n",
        "</center>"
      ],
      "metadata": {
        "papermill": {
          "duration": 0.01716,
          "end_time": "2022-01-09T11:47:46.089693",
          "exception": false,
          "start_time": "2022-01-09T11:47:46.072533",
          "status": "completed"
        },
        "tags": [],
        "id": "bWUAy1o6LRxt"
      }
    },
    {
      "cell_type": "markdown",
      "source": [
        "<center>\n",
        "    All exercises of <b>JaxTon</b>: <i>💯 JAX exercises</i>\n",
        "    <br>\n",
        "    You can find individual sets of the exercises and solutions on <a href=\"https://github.com/vopani/jaxton#exercises-\">GitHub</a>\n",
        "</center>"
      ],
      "metadata": {
        "papermill": {
          "duration": 0.015686,
          "end_time": "2022-01-09T11:47:46.12191",
          "exception": false,
          "start_time": "2022-01-09T11:47:46.106224",
          "status": "completed"
        },
        "tags": [],
        "id": "nCYh972GLRxw"
      }
    },
    {
      "cell_type": "markdown",
      "source": [
        "**Prerequisites**\n",
        "\n",
        "* The configuration of jax should be updated as shown in the code snippet below in order to use TPUs.\n",
        "* A sample array `sample_data` will be used for some of the exercises.\n",
        "* Sample functions `square`, `cube` and `areas` will be used for some of the exercises."
      ],
      "metadata": {
        "papermill": {
          "duration": 0.015589,
          "end_time": "2022-01-09T11:47:46.15344",
          "exception": false,
          "start_time": "2022-01-09T11:47:46.137851",
          "status": "completed"
        },
        "tags": [],
        "id": "HCcX3tpbLRxx"
      }
    },
    {
      "cell_type": "code",
      "source": [
        "## install jax\n",
        "!python3 -m pip install jax"
      ],
      "metadata": {
        "_kg_hide-input": true,
        "_kg_hide-output": true,
        "execution": {
          "iopub.status.busy": "2022-02-07T06:30:17.03978Z",
          "iopub.execute_input": "2022-02-07T06:30:17.040119Z",
          "iopub.status.idle": "2022-02-07T06:30:27.944539Z",
          "shell.execute_reply.started": "2022-02-07T06:30:17.040036Z",
          "shell.execute_reply": "2022-02-07T06:30:27.943364Z"
        },
        "trusted": true,
        "id": "TXE8B7KILRxx",
        "outputId": "46c014b8-bcac-45d8-c6ed-5b3c8ed56e0c",
        "colab": {
          "base_uri": "https://localhost:8080/"
        }
      },
      "execution_count": 1,
      "outputs": [
        {
          "output_type": "stream",
          "name": "stdout",
          "text": [
            "Requirement already satisfied: jax in /usr/local/lib/python3.7/dist-packages (0.3.8)\n",
            "Requirement already satisfied: absl-py in /usr/local/lib/python3.7/dist-packages (from jax) (1.0.0)\n",
            "Requirement already satisfied: scipy>=1.2.1 in /usr/local/lib/python3.7/dist-packages (from jax) (1.4.1)\n",
            "Requirement already satisfied: opt-einsum in /usr/local/lib/python3.7/dist-packages (from jax) (3.3.0)\n",
            "Requirement already satisfied: numpy>=1.19 in /usr/local/lib/python3.7/dist-packages (from jax) (1.21.6)\n",
            "Requirement already satisfied: typing-extensions in /usr/local/lib/python3.7/dist-packages (from jax) (4.2.0)\n",
            "Requirement already satisfied: six in /usr/local/lib/python3.7/dist-packages (from absl-py->jax) (1.15.0)\n"
          ]
        }
      ]
    },
    {
      "cell_type": "code",
      "source": [
        "## import packages\n",
        "import jax\n",
        "import jax.numpy as jnp\n",
        "import math\n",
        "import os\n",
        "import requests\n",
        "\n",
        "## setup JAX to use TPUs if available\n",
        "try:\n",
        "    url = 'http:' + os.environ['TPU_NAME'].split(':')[1] + ':8475/requestversion/tpu_driver_nightly'\n",
        "    resp = requests.post(url)\n",
        "    jax.config.FLAGS.jax_xla_backend = 'tpu_driver'\n",
        "    jax.config.FLAGS.jax_backend_target = os.environ['TPU_NAME']\n",
        "except:\n",
        "    pass\n",
        "\n",
        "jax.devices()"
      ],
      "metadata": {
        "_kg_hide-input": false,
        "papermill": {
          "duration": 1.693423,
          "end_time": "2022-01-09T11:47:47.862757",
          "exception": false,
          "start_time": "2022-01-09T11:47:46.169334",
          "status": "completed"
        },
        "tags": [],
        "execution": {
          "iopub.status.busy": "2022-02-07T06:30:27.946932Z",
          "iopub.execute_input": "2022-02-07T06:30:27.947295Z",
          "iopub.status.idle": "2022-02-07T06:30:30.008108Z",
          "shell.execute_reply.started": "2022-02-07T06:30:27.947249Z",
          "shell.execute_reply": "2022-02-07T06:30:30.007356Z"
        },
        "trusted": true,
        "id": "sqkAZ4eALRxy",
        "outputId": "03ccc190-960f-4b5e-80a0-53b51981be68",
        "colab": {
          "base_uri": "https://localhost:8080/"
        }
      },
      "execution_count": 2,
      "outputs": [
        {
          "output_type": "stream",
          "name": "stderr",
          "text": [
            "WARNING:absl:No GPU/TPU found, falling back to CPU. (Set TF_CPP_MIN_LOG_LEVEL=0 and rerun for more info.)\n"
          ]
        },
        {
          "output_type": "execute_result",
          "data": {
            "text/plain": [
              "[CpuDevice(id=0)]"
            ]
          },
          "metadata": {},
          "execution_count": 2
        }
      ]
    },
    {
      "cell_type": "code",
      "source": [
        "## sample data\n",
        "sample_data = jnp.array([10, 1, 24, 20, 15, 14])\n",
        "sample_data"
      ],
      "metadata": {
        "execution": {
          "iopub.status.busy": "2022-02-07T06:30:30.009707Z",
          "iopub.execute_input": "2022-02-07T06:30:30.010495Z",
          "iopub.status.idle": "2022-02-07T06:30:30.02428Z",
          "shell.execute_reply.started": "2022-02-07T06:30:30.010459Z",
          "shell.execute_reply": "2022-02-07T06:30:30.023365Z"
        },
        "trusted": true,
        "id": "KfH6c_DFLRxz",
        "outputId": "81301ee7-2237-447b-8087-0260af8ae00a",
        "colab": {
          "base_uri": "https://localhost:8080/"
        }
      },
      "execution_count": 3,
      "outputs": [
        {
          "output_type": "execute_result",
          "data": {
            "text/plain": [
              "DeviceArray([10,  1, 24, 20, 15, 14], dtype=int32)"
            ]
          },
          "metadata": {},
          "execution_count": 3
        }
      ]
    },
    {
      "cell_type": "code",
      "source": [
        "## sample square function\n",
        "def square(x):\n",
        "    return x**2\n",
        "\n",
        "square(2)"
      ],
      "metadata": {
        "id": "J32G8bE3LRxz",
        "outputId": "f5f85792-348e-4f93-b1a1-603a54063e81",
        "colab": {
          "base_uri": "https://localhost:8080/"
        }
      },
      "execution_count": 4,
      "outputs": [
        {
          "output_type": "execute_result",
          "data": {
            "text/plain": [
              "4"
            ]
          },
          "metadata": {},
          "execution_count": 4
        }
      ]
    },
    {
      "cell_type": "code",
      "source": [
        "## sample cube function\n",
        "def cube(x):\n",
        "    return x**3\n",
        "\n",
        "cube(2)"
      ],
      "metadata": {
        "id": "ip1X-Lv-LRx0",
        "outputId": "ccbb8ae1-3266-4f11-9f62-9d1963d74f6f",
        "colab": {
          "base_uri": "https://localhost:8080/"
        }
      },
      "execution_count": 5,
      "outputs": [
        {
          "output_type": "execute_result",
          "data": {
            "text/plain": [
              "8"
            ]
          },
          "metadata": {},
          "execution_count": 5
        }
      ]
    },
    {
      "cell_type": "code",
      "source": [
        "## sample areas function\n",
        "def areas(x):\n",
        "    return [math.sqrt(3)*x**2/4, x**2, math.pi*x**2]\n",
        "\n",
        "areas(2)"
      ],
      "metadata": {
        "id": "LTM5X12NLRx0",
        "outputId": "16da337d-6b2b-425e-a27b-e5d3a3e8e5e9",
        "colab": {
          "base_uri": "https://localhost:8080/"
        }
      },
      "execution_count": 6,
      "outputs": [
        {
          "output_type": "execute_result",
          "data": {
            "text/plain": [
              "[1.7320508075688772, 4, 12.566370614359172]"
            ]
          },
          "metadata": {},
          "execution_count": 6
        }
      ]
    },
    {
      "cell_type": "markdown",
      "source": [
        "**Exercise 1: Install the `jax` package**"
      ],
      "metadata": {
        "papermill": {
          "duration": 0.015931,
          "end_time": "2022-01-09T11:47:47.894827",
          "exception": false,
          "start_time": "2022-01-09T11:47:47.878896",
          "status": "completed"
        },
        "tags": [],
        "id": "wAwgad1sLRx0"
      }
    },
    {
      "cell_type": "code",
      "source": [
        "!pip install jax"
      ],
      "metadata": {
        "papermill": {
          "duration": 9.887596,
          "end_time": "2022-01-09T11:47:57.799261",
          "exception": false,
          "start_time": "2022-01-09T11:47:47.911665",
          "status": "completed"
        },
        "tags": [],
        "trusted": true,
        "id": "jnPJ5msQLRx1",
        "outputId": "d641fd2e-3e18-4e7d-973b-99faab9d932f",
        "colab": {
          "base_uri": "https://localhost:8080/"
        }
      },
      "execution_count": 7,
      "outputs": [
        {
          "output_type": "stream",
          "name": "stdout",
          "text": [
            "Requirement already satisfied: jax in /usr/local/lib/python3.7/dist-packages (0.3.8)\n",
            "Requirement already satisfied: absl-py in /usr/local/lib/python3.7/dist-packages (from jax) (1.0.0)\n",
            "Requirement already satisfied: numpy>=1.19 in /usr/local/lib/python3.7/dist-packages (from jax) (1.21.6)\n",
            "Requirement already satisfied: typing-extensions in /usr/local/lib/python3.7/dist-packages (from jax) (4.2.0)\n",
            "Requirement already satisfied: opt-einsum in /usr/local/lib/python3.7/dist-packages (from jax) (3.3.0)\n",
            "Requirement already satisfied: scipy>=1.2.1 in /usr/local/lib/python3.7/dist-packages (from jax) (1.4.1)\n",
            "Requirement already satisfied: six in /usr/local/lib/python3.7/dist-packages (from absl-py->jax) (1.15.0)\n"
          ]
        }
      ]
    },
    {
      "cell_type": "markdown",
      "source": [
        "**Exercise 2: Import the `jax` package**"
      ],
      "metadata": {
        "papermill": {
          "duration": 0.01668,
          "end_time": "2022-01-09T11:47:57.833721",
          "exception": false,
          "start_time": "2022-01-09T11:47:57.817041",
          "status": "completed"
        },
        "tags": [],
        "id": "khHp5adzLRx1"
      }
    },
    {
      "cell_type": "code",
      "source": [
        "import jax "
      ],
      "metadata": {
        "papermill": {
          "duration": 0.024826,
          "end_time": "2022-01-09T11:47:57.875624",
          "exception": false,
          "start_time": "2022-01-09T11:47:57.850798",
          "status": "completed"
        },
        "tags": [],
        "trusted": true,
        "id": "OnN-e7HqLRx1"
      },
      "execution_count": 8,
      "outputs": []
    },
    {
      "cell_type": "markdown",
      "source": [
        "**Exercise 3: Display the version of `jax`**"
      ],
      "metadata": {
        "papermill": {
          "duration": 0.016778,
          "end_time": "2022-01-09T11:47:57.909635",
          "exception": false,
          "start_time": "2022-01-09T11:47:57.892857",
          "status": "completed"
        },
        "tags": [],
        "id": "YeP-AxYTLRx1"
      }
    },
    {
      "cell_type": "code",
      "source": [
        "print(jax.__version__)\n"
      ],
      "metadata": {
        "papermill": {
          "duration": 0.028537,
          "end_time": "2022-01-09T11:47:57.955199",
          "exception": false,
          "start_time": "2022-01-09T11:47:57.926662",
          "status": "completed"
        },
        "tags": [],
        "trusted": true,
        "id": "cba-Nb9QLRx1",
        "outputId": "37ec8e94-b420-4718-80a3-ea033abd6f46",
        "colab": {
          "base_uri": "https://localhost:8080/"
        }
      },
      "execution_count": 9,
      "outputs": [
        {
          "output_type": "stream",
          "name": "stdout",
          "text": [
            "0.3.8\n"
          ]
        }
      ]
    },
    {
      "cell_type": "markdown",
      "source": [
        "**Exercise 4: Display the default backend of `jax`**"
      ],
      "metadata": {
        "papermill": {
          "duration": 0.016987,
          "end_time": "2022-01-09T11:47:57.989727",
          "exception": false,
          "start_time": "2022-01-09T11:47:57.97274",
          "status": "completed"
        },
        "tags": [],
        "id": "ozNSJ36kLRx1"
      }
    },
    {
      "cell_type": "code",
      "source": [
        "jax.default_backend()"
      ],
      "metadata": {
        "papermill": {
          "duration": 0.050031,
          "end_time": "2022-01-09T11:47:58.057205",
          "exception": false,
          "start_time": "2022-01-09T11:47:58.007174",
          "status": "completed"
        },
        "tags": [],
        "trusted": true,
        "id": "B69FJEwLLRx1",
        "outputId": "769cd743-d5e0-4bd2-e2dc-99aefd5fe127",
        "colab": {
          "base_uri": "https://localhost:8080/",
          "height": 36
        }
      },
      "execution_count": 11,
      "outputs": [
        {
          "output_type": "execute_result",
          "data": {
            "text/plain": [
              "'cpu'"
            ],
            "application/vnd.google.colaboratory.intrinsic+json": {
              "type": "string"
            }
          },
          "metadata": {},
          "execution_count": 11
        }
      ]
    },
    {
      "cell_type": "markdown",
      "source": [
        "**Exercise 5: Display the devices of the backend**"
      ],
      "metadata": {
        "papermill": {
          "duration": 0.017468,
          "end_time": "2022-01-09T11:47:58.092399",
          "exception": false,
          "start_time": "2022-01-09T11:47:58.074931",
          "status": "completed"
        },
        "tags": [],
        "id": "gwCV2BKCLRx2"
      }
    },
    {
      "cell_type": "code",
      "source": [
        "jax.devices()"
      ],
      "metadata": {
        "papermill": {
          "duration": 0.025322,
          "end_time": "2022-01-09T11:47:58.135399",
          "exception": false,
          "start_time": "2022-01-09T11:47:58.110077",
          "status": "completed"
        },
        "tags": [],
        "trusted": true,
        "id": "XhPtmq2yLRx2",
        "colab": {
          "base_uri": "https://localhost:8080/"
        },
        "outputId": "e34dc924-be93-43d7-e613-ff1e954ff526"
      },
      "execution_count": 12,
      "outputs": [
        {
          "output_type": "execute_result",
          "data": {
            "text/plain": [
              "[CpuDevice(id=0)]"
            ]
          },
          "metadata": {},
          "execution_count": 12
        }
      ]
    },
    {
      "cell_type": "markdown",
      "source": [
        "**Exercise 6: Create a JAX DeviceArray with values [10, 1, 24] and assign it to `data`**"
      ],
      "metadata": {
        "papermill": {
          "duration": 0.017909,
          "end_time": "2022-01-09T11:47:58.171633",
          "exception": false,
          "start_time": "2022-01-09T11:47:58.153724",
          "status": "completed"
        },
        "tags": [],
        "id": "d9eUDwoJLRx2"
      }
    },
    {
      "cell_type": "code",
      "source": [
        "data = jax.numpy.array([10,1,24])"
      ],
      "metadata": {
        "papermill": {
          "duration": 0.241411,
          "end_time": "2022-01-09T11:47:58.431082",
          "exception": false,
          "start_time": "2022-01-09T11:47:58.189671",
          "status": "completed"
        },
        "tags": [],
        "trusted": true,
        "id": "3D6gFGKCLRx2"
      },
      "execution_count": 16,
      "outputs": []
    },
    {
      "cell_type": "markdown",
      "source": [
        "**Exercise 7: Display the type of `data`**"
      ],
      "metadata": {
        "papermill": {
          "duration": 0.018122,
          "end_time": "2022-01-09T11:47:58.467996",
          "exception": false,
          "start_time": "2022-01-09T11:47:58.449874",
          "status": "completed"
        },
        "tags": [],
        "id": "6KsR9Pu4LRx2"
      }
    },
    {
      "cell_type": "code",
      "source": [
        "type(data)"
      ],
      "metadata": {
        "papermill": {
          "duration": 0.027493,
          "end_time": "2022-01-09T11:47:58.513999",
          "exception": false,
          "start_time": "2022-01-09T11:47:58.486506",
          "status": "completed"
        },
        "tags": [],
        "trusted": true,
        "id": "iHRoZBO4LRx2",
        "colab": {
          "base_uri": "https://localhost:8080/"
        },
        "outputId": "0ec0941c-893b-491b-da9a-0e59e733f188"
      },
      "execution_count": 17,
      "outputs": [
        {
          "output_type": "execute_result",
          "data": {
            "text/plain": [
              "jaxlib.xla_extension.DeviceArray"
            ]
          },
          "metadata": {},
          "execution_count": 17
        }
      ]
    },
    {
      "cell_type": "markdown",
      "source": [
        "**Exercise 8: Display the shape of `data`**"
      ],
      "metadata": {
        "papermill": {
          "duration": 0.018392,
          "end_time": "2022-01-09T11:47:58.55108",
          "exception": false,
          "start_time": "2022-01-09T11:47:58.532688",
          "status": "completed"
        },
        "tags": [],
        "id": "7Mxe7esILRx3"
      }
    },
    {
      "cell_type": "code",
      "source": [
        "data.shape"
      ],
      "metadata": {
        "papermill": {
          "duration": 0.02724,
          "end_time": "2022-01-09T11:47:58.598463",
          "exception": false,
          "start_time": "2022-01-09T11:47:58.571223",
          "status": "completed"
        },
        "tags": [],
        "trusted": true,
        "id": "vYBQHp7VLRx3",
        "colab": {
          "base_uri": "https://localhost:8080/"
        },
        "outputId": "44dc225a-8b0a-4b0a-c48f-57db608d21f3"
      },
      "execution_count": 18,
      "outputs": [
        {
          "output_type": "execute_result",
          "data": {
            "text/plain": [
              "(3,)"
            ]
          },
          "metadata": {},
          "execution_count": 18
        }
      ]
    },
    {
      "cell_type": "markdown",
      "source": [
        "**Exercise 9: Transfer `data` to host and assign it to `data_host`**"
      ],
      "metadata": {
        "papermill": {
          "duration": 0.018859,
          "end_time": "2022-01-09T11:47:58.636233",
          "exception": false,
          "start_time": "2022-01-09T11:47:58.617374",
          "status": "completed"
        },
        "tags": [],
        "id": "9P5jEL7RLRx3"
      }
    },
    {
      "cell_type": "code",
      "source": [
        "data_host = jax.device_get(data)\n",
        "data_host"
      ],
      "metadata": {
        "papermill": {
          "duration": 0.028099,
          "end_time": "2022-01-09T11:47:58.683844",
          "exception": false,
          "start_time": "2022-01-09T11:47:58.655745",
          "status": "completed"
        },
        "tags": [],
        "trusted": true,
        "id": "bDTAaxKbLRx3",
        "colab": {
          "base_uri": "https://localhost:8080/"
        },
        "outputId": "122185f5-da5a-4df5-8be5-f0b30e40ae8a"
      },
      "execution_count": 23,
      "outputs": [
        {
          "output_type": "execute_result",
          "data": {
            "text/plain": [
              "array([10,  1, 24], dtype=int32)"
            ]
          },
          "metadata": {},
          "execution_count": 23
        }
      ]
    },
    {
      "cell_type": "markdown",
      "source": [
        "**Exercise 10: Transfer `data_host` to device and assign it to `data_device`**"
      ],
      "metadata": {
        "papermill": {
          "duration": 0.019269,
          "end_time": "2022-01-09T11:47:58.722819",
          "exception": false,
          "start_time": "2022-01-09T11:47:58.70355",
          "status": "completed"
        },
        "tags": [],
        "id": "BnrZl8e-LRx3"
      }
    },
    {
      "cell_type": "code",
      "source": [
        "data_device = jax.device_put(data_host)\n",
        "data_device"
      ],
      "metadata": {
        "colab": {
          "base_uri": "https://localhost:8080/"
        },
        "id": "GlxkBLxrM9Dh",
        "outputId": "a57510e1-9ba2-45de-c7b0-aaf01114e919"
      },
      "execution_count": 25,
      "outputs": [
        {
          "output_type": "execute_result",
          "data": {
            "text/plain": [
              "DeviceArray([10,  1, 24], dtype=int32)"
            ]
          },
          "metadata": {},
          "execution_count": 25
        }
      ]
    },
    {
      "cell_type": "code",
      "source": [
        ""
      ],
      "metadata": {
        "papermill": {
          "duration": 0.028953,
          "end_time": "2022-01-09T11:47:58.771073",
          "exception": false,
          "start_time": "2022-01-09T11:47:58.74212",
          "status": "completed"
        },
        "tags": [],
        "trusted": true,
        "id": "J1nOa6dqLRx3"
      },
      "execution_count": null,
      "outputs": []
    },
    {
      "cell_type": "markdown",
      "source": [
        "**Exercise 11: Create a matrix with values [[10, 1, 24], [20, 15, 14]] and assign it to `data`**"
      ],
      "metadata": {
        "id": "yjod3foaLRx3"
      }
    },
    {
      "cell_type": "code",
      "source": [
        "data = jax.numpy.array([[10,1,24],[20,15,14]])\n",
        "data"
      ],
      "metadata": {
        "id": "jEtY7KHDLRx3",
        "colab": {
          "base_uri": "https://localhost:8080/"
        },
        "outputId": "bea44b49-986c-4bab-87af-690b19d04cc5"
      },
      "execution_count": 55,
      "outputs": [
        {
          "output_type": "execute_result",
          "data": {
            "text/plain": [
              "DeviceArray([[10,  1, 24],\n",
              "             [20, 15, 14]], dtype=int32)"
            ]
          },
          "metadata": {},
          "execution_count": 55
        }
      ]
    },
    {
      "cell_type": "markdown",
      "source": [
        "**Exercise 12: Assign the transpose of `data` to `dataT`**"
      ],
      "metadata": {
        "id": "LNUM_WaELRx4"
      }
    },
    {
      "cell_type": "code",
      "source": [
        "dataT=data.T\n",
        "dataT"
      ],
      "metadata": {
        "id": "V265-RttLRx4",
        "colab": {
          "base_uri": "https://localhost:8080/"
        },
        "outputId": "8c76e020-9a25-43bb-a152-a8f4dc79e11e"
      },
      "execution_count": 56,
      "outputs": [
        {
          "output_type": "execute_result",
          "data": {
            "text/plain": [
              "DeviceArray([[10, 20],\n",
              "             [ 1, 15],\n",
              "             [24, 14]], dtype=int32)"
            ]
          },
          "metadata": {},
          "execution_count": 56
        }
      ]
    },
    {
      "cell_type": "markdown",
      "source": [
        "**Exercise 13: Assign the element of `data` at index [0, 2] to `value`**"
      ],
      "metadata": {
        "id": "cTCzIKeMLRx4"
      }
    },
    {
      "cell_type": "code",
      "source": [
        "value = data[0,2]\n",
        "value"
      ],
      "metadata": {
        "id": "TR77xI6pLRx4",
        "colab": {
          "base_uri": "https://localhost:8080/"
        },
        "outputId": "1c429f8e-063b-47ff-9198-2dab7d9fbdcf"
      },
      "execution_count": 57,
      "outputs": [
        {
          "output_type": "execute_result",
          "data": {
            "text/plain": [
              "DeviceArray(24, dtype=int32)"
            ]
          },
          "metadata": {},
          "execution_count": 57
        }
      ]
    },
    {
      "cell_type": "markdown",
      "source": [
        "**Exercise 14: Update the value of `data` at index [1, 1] to `100`**"
      ],
      "metadata": {
        "id": "_i9xrQhlLRx4"
      }
    },
    {
      "cell_type": "code",
      "source": [
        "data= data.at[1,1].set(100)\n",
        "data[1,1]"
      ],
      "metadata": {
        "id": "hhL41a1TLRx4",
        "colab": {
          "base_uri": "https://localhost:8080/"
        },
        "outputId": "82bf5644-8817-4939-980b-abd10b323218"
      },
      "execution_count": 58,
      "outputs": [
        {
          "output_type": "execute_result",
          "data": {
            "text/plain": [
              "DeviceArray(100, dtype=int32)"
            ]
          },
          "metadata": {},
          "execution_count": 58
        }
      ]
    },
    {
      "cell_type": "markdown",
      "source": [
        "**Exercise 15: Add `41` to the value of `data` at index [0, 0]**"
      ],
      "metadata": {
        "id": "Gobyo3vjLRx4"
      }
    },
    {
      "cell_type": "code",
      "source": [
        "data = data.at[0,0].set(data[0,0] + 41)\n",
        "data"
      ],
      "metadata": {
        "id": "QgA6C8NZLRx4",
        "colab": {
          "base_uri": "https://localhost:8080/"
        },
        "outputId": "088c83b9-6087-4089-b710-eb78aead29fc"
      },
      "execution_count": 59,
      "outputs": [
        {
          "output_type": "execute_result",
          "data": {
            "text/plain": [
              "DeviceArray([[ 51,   1,  24],\n",
              "             [ 20, 100,  14]], dtype=int32)"
            ]
          },
          "metadata": {},
          "execution_count": 59
        }
      ]
    },
    {
      "cell_type": "markdown",
      "source": [
        "**Exercise 16: Calculate the minimum values over axis=1 and assign it to `mins`**"
      ],
      "metadata": {
        "id": "egn1MDB2LRx4"
      }
    },
    {
      "cell_type": "code",
      "source": [
        "mins = data.min(axis=1)\n",
        "mins"
      ],
      "metadata": {
        "id": "nKCwmag8LRx5",
        "colab": {
          "base_uri": "https://localhost:8080/"
        },
        "outputId": "3ef707d3-50aa-4478-9777-061a7f7245b8"
      },
      "execution_count": 60,
      "outputs": [
        {
          "output_type": "execute_result",
          "data": {
            "text/plain": [
              "DeviceArray([ 1, 14], dtype=int32)"
            ]
          },
          "metadata": {},
          "execution_count": 60
        }
      ]
    },
    {
      "cell_type": "markdown",
      "source": [
        "**Exercise 17: Select the first row of values of `data` and assign it to `data_select`**"
      ],
      "metadata": {
        "id": "hsZRtbBHLRx5"
      }
    },
    {
      "cell_type": "code",
      "source": [
        "data_select= data[0,:]\n",
        "data_select"
      ],
      "metadata": {
        "id": "ALVKiYGWLRx5",
        "colab": {
          "base_uri": "https://localhost:8080/"
        },
        "outputId": "405f656d-5af3-4c13-8463-7cabb2ccd844"
      },
      "execution_count": 61,
      "outputs": [
        {
          "output_type": "execute_result",
          "data": {
            "text/plain": [
              "DeviceArray([51,  1, 24], dtype=int32)"
            ]
          },
          "metadata": {},
          "execution_count": 61
        }
      ]
    },
    {
      "cell_type": "markdown",
      "source": [
        "**Exercise 18: Append the row `data_select` to `data`**"
      ],
      "metadata": {
        "id": "7JFmBRsULRx5"
      }
    },
    {
      "cell_type": "code",
      "source": [
        "#  cheap way\n",
        "# data = jax.numpy.append(arr = data, values= data_select).reshape(3,3)\n",
        "\n",
        "data = jax.numpy.vstack([data,data_select])\n",
        "data"
      ],
      "metadata": {
        "id": "st4YX4epLRx5",
        "colab": {
          "base_uri": "https://localhost:8080/"
        },
        "outputId": "4dd95178-e704-431f-bf8d-e5fc402680e4"
      },
      "execution_count": 62,
      "outputs": [
        {
          "output_type": "execute_result",
          "data": {
            "text/plain": [
              "DeviceArray([[ 51,   1,  24],\n",
              "             [ 20, 100,  14],\n",
              "             [ 51,   1,  24]], dtype=int32)"
            ]
          },
          "metadata": {},
          "execution_count": 62
        }
      ]
    },
    {
      "cell_type": "markdown",
      "source": [
        "**Exercise 19: Multiply the matrices `data` and `dataT` and assign it to `data_prod`**"
      ],
      "metadata": {
        "id": "5YwcX_HFLRx5"
      }
    },
    {
      "cell_type": "code",
      "source": [
        "data_prod = data @ dataT\n",
        "data_prod"
      ],
      "metadata": {
        "id": "EhMtJTg-LRx5",
        "colab": {
          "base_uri": "https://localhost:8080/"
        },
        "outputId": "fe868905-0c66-45df-a4db-692022e9a3df"
      },
      "execution_count": 64,
      "outputs": [
        {
          "output_type": "execute_result",
          "data": {
            "text/plain": [
              "DeviceArray([[1087, 1371],\n",
              "             [ 636, 2096],\n",
              "             [1087, 1371]], dtype=int32)"
            ]
          },
          "metadata": {},
          "execution_count": 64
        }
      ]
    },
    {
      "cell_type": "markdown",
      "source": [
        "**Exercise 20: Convert the dtype of `data_prod` to `float32`**"
      ],
      "metadata": {
        "id": "h1Z_qwRoLRx5"
      }
    },
    {
      "cell_type": "code",
      "source": [
        "jax.numpy.array(data_prod, dtype=\"float32\")"
      ],
      "metadata": {
        "id": "ZZhAbAy9LRx5",
        "colab": {
          "base_uri": "https://localhost:8080/"
        },
        "outputId": "5e4a6317-ba1b-4dae-f3ff-31ce8b773300"
      },
      "execution_count": 70,
      "outputs": [
        {
          "output_type": "execute_result",
          "data": {
            "text/plain": [
              "DeviceArray([[1087., 1371.],\n",
              "             [ 636., 2096.],\n",
              "             [1087., 1371.]], dtype=float32)"
            ]
          },
          "metadata": {},
          "execution_count": 70
        }
      ]
    },
    {
      "cell_type": "markdown",
      "source": [
        "**Exercise 21: Create a pseudorandom number generator key with seed=100 and assign it to `key`**"
      ],
      "metadata": {
        "id": "NPOYiUUaLRx5"
      }
    },
    {
      "cell_type": "code",
      "source": [
        ""
      ],
      "metadata": {
        "id": "wW6_ZGi8LRx5"
      },
      "execution_count": null,
      "outputs": []
    },
    {
      "cell_type": "markdown",
      "source": [
        "**Exercise 22: Create a subkey from `key` and assign it to `subkey`**"
      ],
      "metadata": {
        "id": "594YbM_OLRx5"
      }
    },
    {
      "cell_type": "code",
      "source": [
        ""
      ],
      "metadata": {
        "id": "zS55w_p7LRx5"
      },
      "execution_count": null,
      "outputs": []
    },
    {
      "cell_type": "markdown",
      "source": [
        "**Exercise 23: Split `key` into seven subkeys `key_1`, `key_2`, `key_3`, `key_4`, `key_5`, `key_6` and `key_7`**"
      ],
      "metadata": {
        "id": "A6IISoxlLRx6"
      }
    },
    {
      "cell_type": "code",
      "source": [
        ""
      ],
      "metadata": {
        "id": "-5w1NznJLRx6"
      },
      "execution_count": null,
      "outputs": []
    },
    {
      "cell_type": "markdown",
      "source": [
        "**Exercise 24: Create a random permutation of `sample_data` using `key_1` and assign it to `data_permutation`**"
      ],
      "metadata": {
        "id": "8pjbeQtmLRx6"
      }
    },
    {
      "cell_type": "code",
      "source": [
        ""
      ],
      "metadata": {
        "id": "PbIPF3yPLRx6"
      },
      "execution_count": null,
      "outputs": []
    },
    {
      "cell_type": "markdown",
      "source": [
        "**Exercise 25: Choose a random element from `sample_data` using `key_2` and assign it to `random_selection`**"
      ],
      "metadata": {
        "id": "fMe6-hTlLRx6"
      }
    },
    {
      "cell_type": "code",
      "source": [
        ""
      ],
      "metadata": {
        "id": "w9lLd3FLLRx6"
      },
      "execution_count": null,
      "outputs": []
    },
    {
      "cell_type": "markdown",
      "source": [
        "**Exercise 26: Sample an integer between 10 and 24 using `key_3` and assign it to `sample_int`**"
      ],
      "metadata": {
        "id": "sDPLaqaFLRx6"
      }
    },
    {
      "cell_type": "code",
      "source": [
        ""
      ],
      "metadata": {
        "id": "odUn7SwILRx6"
      },
      "execution_count": null,
      "outputs": []
    },
    {
      "cell_type": "markdown",
      "source": [
        "**Exercise 27: Sample two values from uniform distribution between 1 and 2 using `key_4` and assign it to `sample_uniform`**"
      ],
      "metadata": {
        "id": "DnDnEwvPLRx6"
      }
    },
    {
      "cell_type": "code",
      "source": [
        ""
      ],
      "metadata": {
        "id": "E3u4IgobLRx6"
      },
      "execution_count": null,
      "outputs": []
    },
    {
      "cell_type": "markdown",
      "source": [
        "**Exercise 28: Sample three values from bernoulli distribution using `key_5` and assign it to `sample_bernoulli`**"
      ],
      "metadata": {
        "id": "NB0CLP-xLRx6"
      }
    },
    {
      "cell_type": "code",
      "source": [
        ""
      ],
      "metadata": {
        "id": "hurk35XtLRx6"
      },
      "execution_count": null,
      "outputs": []
    },
    {
      "cell_type": "markdown",
      "source": [
        "**Exercise 29: Sample a 2x3 matrix from poisson distribution with λ=100 using `key_6` and assign it to `sample_poisson`**"
      ],
      "metadata": {
        "id": "vUYhXrvgLRx6"
      }
    },
    {
      "cell_type": "code",
      "source": [
        ""
      ],
      "metadata": {
        "id": "FnUeHPloLRx6"
      },
      "execution_count": null,
      "outputs": []
    },
    {
      "cell_type": "markdown",
      "source": [
        "**Exercise 30: Sample a 2x3x4 array from normal distribution using `key_7` and assign it to `sample_normal`**"
      ],
      "metadata": {
        "id": "dY0DJGpBLRx6"
      }
    },
    {
      "cell_type": "code",
      "source": [
        ""
      ],
      "metadata": {
        "id": "pyV2VcLqLRx7"
      },
      "execution_count": null,
      "outputs": []
    },
    {
      "cell_type": "markdown",
      "source": [
        "**Exercise 31: JIT-compile the `cube` function and assign it to `cube_jit`**"
      ],
      "metadata": {
        "id": "01L1xD8eLRx7"
      }
    },
    {
      "cell_type": "code",
      "source": [
        ""
      ],
      "metadata": {
        "id": "hNWAXuYXLRx7"
      },
      "execution_count": null,
      "outputs": []
    },
    {
      "cell_type": "markdown",
      "source": [
        "**Exercise 32: Display the execution time of `cube_jit` for first run (with overhead) with input=10.24**"
      ],
      "metadata": {
        "id": "Tun20Y0DLRx7"
      }
    },
    {
      "cell_type": "code",
      "source": [
        ""
      ],
      "metadata": {
        "id": "YguvkUsTLRx7"
      },
      "execution_count": null,
      "outputs": []
    },
    {
      "cell_type": "markdown",
      "source": [
        "**Exercise 33: Display execution time of `cube_jit` for second run (without overhead) with input=10.24**"
      ],
      "metadata": {
        "id": "VLajygLpLRx7"
      }
    },
    {
      "cell_type": "code",
      "source": [
        ""
      ],
      "metadata": {
        "id": "p5Cl0OmoLRx7"
      },
      "execution_count": null,
      "outputs": []
    },
    {
      "cell_type": "markdown",
      "source": [
        "**Exercise 34: Run `cube_jit` with input=10.24 and assign it to `cube_value`**"
      ],
      "metadata": {
        "id": "nc4ml4YgLRx7"
      }
    },
    {
      "cell_type": "code",
      "source": [
        ""
      ],
      "metadata": {
        "id": "5-pr5AfGLRx7"
      },
      "execution_count": null,
      "outputs": []
    },
    {
      "cell_type": "markdown",
      "source": [
        "**Exercise 35: Run `cube_jit` with jit disabled and input=10.24 and assign it to `cube_value_nojit`**"
      ],
      "metadata": {
        "id": "mI-sQEuOLRx7"
      }
    },
    {
      "cell_type": "code",
      "source": [
        ""
      ],
      "metadata": {
        "id": "MtAMPoL-LRx7"
      },
      "execution_count": null,
      "outputs": []
    },
    {
      "cell_type": "markdown",
      "source": [
        "**Exercise 36: Evaluate the shape of `cube_jit` with input=10.24 and assign it to `cube_shape`**"
      ],
      "metadata": {
        "id": "BGD88DhBLRx7"
      }
    },
    {
      "cell_type": "code",
      "source": [
        ""
      ],
      "metadata": {
        "id": "W8urCHBSLRx7"
      },
      "execution_count": null,
      "outputs": []
    },
    {
      "cell_type": "markdown",
      "source": [
        "**Exercise 37: Create the jaxpr of `cube_jit` with input=10.24 and assign it to `cube_jaxpr`**"
      ],
      "metadata": {
        "id": "8AtDoU8bLRx7"
      }
    },
    {
      "cell_type": "code",
      "source": [
        ""
      ],
      "metadata": {
        "id": "BA_0h04kLRx7"
      },
      "execution_count": null,
      "outputs": []
    },
    {
      "cell_type": "markdown",
      "source": [
        "**Exercise 38: Assign the XLA computation of `cube_jit` with input=10.24 to `cube_xla` and print it's XLA HLO text**"
      ],
      "metadata": {
        "id": "pflcGg-PLRx8"
      }
    },
    {
      "cell_type": "code",
      "source": [
        ""
      ],
      "metadata": {
        "id": "Is5e5vvRLRx8"
      },
      "execution_count": null,
      "outputs": []
    },
    {
      "cell_type": "markdown",
      "source": [
        "**Exercise 39: Use the name `jaxton_cube_fn` internally for the `cube_jit` function and assign the named function to `cube_named_jit`**"
      ],
      "metadata": {
        "id": "n2PdjTX9LRx8"
      }
    },
    {
      "cell_type": "code",
      "source": [
        ""
      ],
      "metadata": {
        "id": "AHBu-8X6LRx8"
      },
      "execution_count": null,
      "outputs": []
    },
    {
      "cell_type": "markdown",
      "source": [
        "**Exercise 40: Assign the XLA computation of `cube_named_jit` with input=10.24 to `cube_named_xla` and print it's XLA HLO text**"
      ],
      "metadata": {
        "id": "lqQ_HYoILRx8"
      }
    },
    {
      "cell_type": "code",
      "source": [
        ""
      ],
      "metadata": {
        "id": "fHLx-HKSLRx8"
      },
      "execution_count": null,
      "outputs": []
    },
    {
      "cell_type": "markdown",
      "source": [
        "**Exercise 41: Calculate the cumulative sum of `sample_data` using the associative scan operator and assign it to `data_cumsum`**"
      ],
      "metadata": {
        "id": "HAVammgYLRx8"
      }
    },
    {
      "cell_type": "code",
      "source": [
        ""
      ],
      "metadata": {
        "id": "oNMk5K71LRx8"
      },
      "execution_count": null,
      "outputs": []
    },
    {
      "cell_type": "markdown",
      "source": [
        "**Exercise 42: Calculate the cumulative sum of `sample_data` in reverse order using the associative scan operator and assign it to `data_cumsum_reverse`**"
      ],
      "metadata": {
        "id": "mwiG4FMoLRx8"
      }
    },
    {
      "cell_type": "code",
      "source": [
        ""
      ],
      "metadata": {
        "id": "XALtIbglLRx8"
      },
      "execution_count": null,
      "outputs": []
    },
    {
      "cell_type": "markdown",
      "source": [
        "**Exercise 43: Create a JIT-compiled lambda function that outputs `square` of input if it is even and `cube` of input if it is odd using the cond operator and assign it to `parity_ifelse`**"
      ],
      "metadata": {
        "id": "EhEw_GzOLRx8"
      }
    },
    {
      "cell_type": "code",
      "source": [
        ""
      ],
      "metadata": {
        "id": "rHwODGhuLRx8"
      },
      "execution_count": null,
      "outputs": []
    },
    {
      "cell_type": "markdown",
      "source": [
        "**Exercise 44: Run `parity_ifelse` with the first element of `data_cumsum` and assign it to `parity_1`**"
      ],
      "metadata": {
        "id": "1jz0cmrLLRx8"
      }
    },
    {
      "cell_type": "code",
      "source": [
        ""
      ],
      "metadata": {
        "id": "5Td8mqFMLRx8"
      },
      "execution_count": null,
      "outputs": []
    },
    {
      "cell_type": "markdown",
      "source": [
        "**Exercise 45: Run `parity_ifelse` with the second element of `data_cumsum` and assign it to `parity_2`**"
      ],
      "metadata": {
        "id": "dhP_VfAmLRx9"
      }
    },
    {
      "cell_type": "code",
      "source": [
        ""
      ],
      "metadata": {
        "id": "K5Ej0itALRx9"
      },
      "execution_count": null,
      "outputs": []
    },
    {
      "cell_type": "markdown",
      "source": [
        "**Exercise 46: Create a JIT-compiled lambda function that outputs `square` of input if it is even and `cube` of input if it is odd using the switch operator and assign it to `parity_switch`**"
      ],
      "metadata": {
        "id": "XegFxrDlLRx9"
      }
    },
    {
      "cell_type": "code",
      "source": [
        ""
      ],
      "metadata": {
        "id": "6YQ2wsFdLRx9"
      },
      "execution_count": null,
      "outputs": []
    },
    {
      "cell_type": "markdown",
      "source": [
        "**Exercise 47: Run `parity_switch` with the fourth element of `data_cumsum` and assign it to `parity_4`**"
      ],
      "metadata": {
        "id": "bK4tOKVwLRx9"
      }
    },
    {
      "cell_type": "code",
      "source": [
        ""
      ],
      "metadata": {
        "id": "-aUvhO5LLRx9"
      },
      "execution_count": null,
      "outputs": []
    },
    {
      "cell_type": "markdown",
      "source": [
        "**Exercise 48: Run `parity_switch` with the fifth element of `data_cumsum` and assign it to `parity_5`**"
      ],
      "metadata": {
        "id": "4CJILJkULRx9"
      }
    },
    {
      "cell_type": "code",
      "source": [
        ""
      ],
      "metadata": {
        "id": "YuRmmDYTLRx9"
      },
      "execution_count": null,
      "outputs": []
    },
    {
      "cell_type": "markdown",
      "source": [
        "**Exercise 49: Calculate the sum of the first four elements of `data_cumsum` using the for operator and assign it to `sum_four`**"
      ],
      "metadata": {
        "id": "CXeb0MGZLRx9"
      }
    },
    {
      "cell_type": "code",
      "source": [
        ""
      ],
      "metadata": {
        "id": "zVPbixr5LRx-"
      },
      "execution_count": null,
      "outputs": []
    },
    {
      "cell_type": "markdown",
      "source": [
        "**Exercise 50: Keep subtracting 25 from `sum_four` until the result is negative using the while operator and assign it to `subtract_until_negative`**"
      ],
      "metadata": {
        "id": "0JW2m1yRLRx-"
      }
    },
    {
      "cell_type": "code",
      "source": [
        ""
      ],
      "metadata": {
        "id": "FEzG4-ofLRx-"
      },
      "execution_count": null,
      "outputs": []
    },
    {
      "cell_type": "markdown",
      "source": [
        "**Exercise 51: JIT-compile the derivative of `cube` and assign it to `derivative_cube`**"
      ],
      "metadata": {
        "id": "TihIBHZuLRx-"
      }
    },
    {
      "cell_type": "code",
      "source": [
        ""
      ],
      "metadata": {
        "id": "9A-b6wwoLRx-"
      },
      "execution_count": null,
      "outputs": []
    },
    {
      "cell_type": "markdown",
      "source": [
        "**Exercise 52: Run `derivative_cube` with value=7**"
      ],
      "metadata": {
        "id": "Ux4H1I78LRx-"
      }
    },
    {
      "cell_type": "code",
      "source": [
        ""
      ],
      "metadata": {
        "id": "rJF1gXJYLRx-"
      },
      "execution_count": null,
      "outputs": []
    },
    {
      "cell_type": "markdown",
      "source": [
        "**Exercise 53: JIT-compile the value and derivative of `cube` together, assign it to `value_and_derivative_cube` and run it with value=7**"
      ],
      "metadata": {
        "id": "ohmlPOyELRx-"
      }
    },
    {
      "cell_type": "code",
      "source": [
        ""
      ],
      "metadata": {
        "id": "eqGdFKJRLRx-"
      },
      "execution_count": null,
      "outputs": []
    },
    {
      "cell_type": "markdown",
      "source": [
        "**Exercise 54: JIT-compile the second order derivative of `cube`, assign it to `derivative_cube_2` and run it with value=7**"
      ],
      "metadata": {
        "id": "gIhsJjbvLRx-"
      }
    },
    {
      "cell_type": "code",
      "source": [
        ""
      ],
      "metadata": {
        "id": "5FyNQX9DLRx-"
      },
      "execution_count": null,
      "outputs": []
    },
    {
      "cell_type": "markdown",
      "source": [
        "**Exercise 55: JIT-compile the hessian of `cube`, assign it to `hessian_cube` and run it with value=7**"
      ],
      "metadata": {
        "id": "JvaYjkegLRx-"
      }
    },
    {
      "cell_type": "code",
      "source": [
        ""
      ],
      "metadata": {
        "id": "506kFi1iLRx_"
      },
      "execution_count": null,
      "outputs": []
    },
    {
      "cell_type": "markdown",
      "source": [
        "**Exercise 56: JIT-compile `areas`, assign it to `jit_areas` and run it with value=9**"
      ],
      "metadata": {
        "id": "bW70UQZhLRx_"
      }
    },
    {
      "cell_type": "code",
      "source": [
        ""
      ],
      "metadata": {
        "id": "8UKEuMSpLRx_"
      },
      "execution_count": null,
      "outputs": []
    },
    {
      "cell_type": "markdown",
      "source": [
        "**Exercise 57: Compute the Jacobian of `areas` using forward-mode automatic differentiation, assign it to `jacfwd_areas` and run it with value=9**"
      ],
      "metadata": {
        "id": "RUqiHKKQLRx_"
      }
    },
    {
      "cell_type": "code",
      "source": [
        ""
      ],
      "metadata": {
        "id": "X_eJAZvELRx_"
      },
      "execution_count": null,
      "outputs": []
    },
    {
      "cell_type": "markdown",
      "source": [
        "**Exercise 58: Compute the Jacobian of `areas` using reverse-mode automatic differentiation, assign it to `jacrev_areas` and run it with value=9**"
      ],
      "metadata": {
        "id": "JS86gWrsLRx_"
      }
    },
    {
      "cell_type": "code",
      "source": [
        ""
      ],
      "metadata": {
        "id": "VPkma0bLLRx_"
      },
      "execution_count": null,
      "outputs": []
    },
    {
      "cell_type": "markdown",
      "source": [
        "**Exercise 59: Compute the Jacobian-vector product of `cube` at value=7 with vector=9 and assign it to `jvp_cube`**"
      ],
      "metadata": {
        "id": "bDSqxCggLRx_"
      }
    },
    {
      "cell_type": "code",
      "source": [
        ""
      ],
      "metadata": {
        "id": "Vd1LeLXhLRx_"
      },
      "execution_count": null,
      "outputs": []
    },
    {
      "cell_type": "markdown",
      "source": [
        "**Exercise 60: Compute the linear approximation of `areas` with value=5, assign it to `areas_linear` and run it with value=9**"
      ],
      "metadata": {
        "id": "aNTyPpqWLRx_"
      }
    },
    {
      "cell_type": "code",
      "source": [
        ""
      ],
      "metadata": {
        "id": "lb14sQBNLRx_"
      },
      "execution_count": null,
      "outputs": []
    },
    {
      "cell_type": "markdown",
      "source": [
        "<center>\n",
        "    All exercises of <b>JaxTon</b>: <i>💯 JAX exercises</i>\n",
        "    <br>\n",
        "    You can find individual sets of the exercises and solutions on <a href=\"https://github.com/vopani/jaxton#exercises-\">GitHub</a>\n",
        "</center>"
      ],
      "metadata": {
        "papermill": {
          "duration": 0.019317,
          "end_time": "2022-01-09T11:47:58.810595",
          "exception": false,
          "start_time": "2022-01-09T11:47:58.791278",
          "status": "completed"
        },
        "tags": [],
        "id": "9EnjdvZHLRx_"
      }
    }
  ]
}